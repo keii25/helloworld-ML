{
 "cells": [
  {
   "cell_type": "markdown",
   "metadata": {},
   "source": [
    "<table align=\"left\">\n",
    "    <tr>\n",
    "        <th>Peso</th>\n",
    "        <th>¿Ladra?</th>\n",
    "        <th>Etiqueta</th>\n",
    "    </tr>\n",
    "    <tr>\n",
    "        <th>3 KG</th>\n",
    "        <th>Ladra = 0</th>\n",
    "        <th>Perro = 0</th>\n",
    "    </tr>\n",
    "    <tr>\n",
    "        <th>5 KG</th>\n",
    "        <th>Ladra = 0</th>\n",
    "        <th>Perro = 0</th>\n",
    "    </tr>\n",
    "    <tr>\n",
    "        <th>10 KG</th>\n",
    "        <th>Ladra = 1</th>\n",
    "        <th>Perro = 1</th>\n",
    "    </tr>\n",
    "    <tr>\n",
    "        <th>12 KG</th>\n",
    "        <th>Ladra = 1</th>\n",
    "        <th>Perro = 1</th>\n",
    "    </tr>\n",
    "</table>"
   ]
  },
  {
   "cell_type": "code",
   "execution_count": null,
   "metadata": {},
   "outputs": [],
   "source": [
    "import numpy as np\n",
    "from sklearn import tree"
   ]
  },
  {
   "cell_type": "code",
   "execution_count": null,
   "metadata": {},
   "outputs": [],
   "source": [
    "atributos = [ [3,0], [5,0], [10,1], [12,1] ]\n",
    "etiquetas = [0, 0, 1, 1]\n",
    "\n",
    "clasificador = tree.DecisionTreeClassifier()\n",
    "train = clasificador.fit(atributos, etiquetas)\n",
    "\n",
    "peso = int(input(\"Digite el peso: \"))\n",
    "ladra = str(input(\"Su animal ladra ?: \"))\n",
    "if ladra == \"SI\" or \"Si\" or \"sI\" or \"si\":\n",
    "    ladra1 = 1\n",
    "else:\n",
    "    ladra1 = 0\n",
    "\n",
    "res = train.predict([[peso,ladra1]])\n",
    "# print (res)\n",
    "\n",
    "if res == 1:\n",
    "    print (\"Su Animal es un perro\")\n",
    "    print(\"\\n\")\n",
    "else:\n",
    "    print (\"Su Animal no es un perro\")"
   ]
  },
  {
   "cell_type": "code",
   "execution_count": null,
   "metadata": {},
   "outputs": [],
   "source": []
  },
  {
   "cell_type": "code",
   "execution_count": null,
   "metadata": {},
   "outputs": [],
   "source": []
  }
 ],
 "metadata": {
  "kernelspec": {
   "display_name": "Python 3",
   "language": "python",
   "name": "python3"
  },
  "language_info": {
   "codemirror_mode": {
    "name": "ipython",
    "version": 3
   },
   "file_extension": ".py",
   "mimetype": "text/x-python",
   "name": "python",
   "nbconvert_exporter": "python",
   "pygments_lexer": "ipython3",
   "version": "3.6.4"
  }
 },
 "nbformat": 4,
 "nbformat_minor": 2
}
